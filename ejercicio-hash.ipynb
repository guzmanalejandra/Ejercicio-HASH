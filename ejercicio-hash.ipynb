{
 "cells": [
  {
   "cell_type": "markdown",
   "metadata": {},
   "source": [
    "Alejandra Guzman 20262"
   ]
  },
  {
   "cell_type": "code",
   "execution_count": 9,
   "metadata": {},
   "outputs": [
    {
     "name": "stdout",
     "output_type": "stream",
     "text": [
      "El archivo no ha sido alterado. El hash SHA-256 es igual al hash precalculado.\n",
      "El archivo ha sido alterado. El hash_md5 no coincide con el hash precalculado.\n",
      "Tiempo para calcular SHA-256: 0.000000 segundos\n",
      "SHA-256: 29f68526129c28be4a3b01d5a4ff5e5e92ff5a05b697f736fa08101e7cdcd1ad\n",
      "Tiempo para calcular MD5: 0.001015 segundos\n",
      "MD5: 4e48131972b38d363750daa15e57660e\n",
      "Diferencia de tiempo entre SHA-256 y MD5: 0.001015 segundos\n"
     ]
    }
   ],
   "source": [
    "import hashlib\n",
    "import time\n",
    "\n",
    "\n",
    "def calcular_sha256(documentotxt):\n",
    "    sha256 = hashlib.sha256()\n",
    "    with open(documentotxt, 'rb') as archivo:\n",
    "        contenido = archivo.read()\n",
    "        sha256.update(contenido)\n",
    "    return sha256.hexdigest()\n",
    "\n",
    "\n",
    "def calcular_md5(documentotxt):\n",
    "    md5 = hashlib.md5()\n",
    "    with open(documentotxt, 'rb') as archivo:\n",
    "        contenido = archivo.read()\n",
    "        md5.update(contenido)\n",
    "    return md5.hexdigest()\n",
    "\n",
    "\n",
    "documentotxt = 'documento.txt'\n",
    "\n",
    "inicio_sha256 = time.time()\n",
    "hash_sha256 = calcular_sha256(documentotxt)\n",
    "fin_sha256 = time.time()\n",
    "tiempo_sha256 = fin_sha256 - inicio_sha256\n",
    "\n",
    "hash_precalculado = \"29f68526129c28be4a3b01d5a4ff5e5e92ff5a05b697f736fa08101e7cdcd1ad\"\n",
    "if hash_sha256 == hash_precalculado:\n",
    "    print(\"El archivo no ha sido alterado. El hash SHA-256 es igual al hash precalculado.\")\n",
    "else:\n",
    "    print(\"El archivo ha sido alterado. El hash SHA-256 no coincide con el hash precalculado.\")\n",
    "\n",
    "inicio_md5 = time.time()\n",
    "hash_md5 = calcular_md5(documentotxt)\n",
    "fin_md5 = time.time()\n",
    "tiempo_md5 = fin_md5 - inicio_md5\n",
    "\n",
    "if hash_md5 == hash_precalculado:\n",
    "    print(\"El archivo no ha sido alterado. El hash_md5 es igual al hash precalculado.\")\n",
    "else:\n",
    "    print(\"El archivo ha sido alterado. El hash_md5 no coincide con el hash precalculado.\")\n",
    "\n",
    "\n",
    "diferencia_tiempo = abs(tiempo_sha256 - tiempo_md5)\n",
    "\n",
    "\n",
    "\n",
    "\n",
    "print(f\"Tiempo para calcular SHA-256: {tiempo_sha256:.6f} segundos\")\n",
    "print(f\"SHA-256: {hash_sha256}\")\n",
    "print(f\"Tiempo para calcular MD5: {tiempo_md5:.6f} segundos\")\n",
    "print(f\"MD5: {hash_md5}\")\n",
    "print(f\"Diferencia de tiempo entre SHA-256 y MD5: {diferencia_tiempo:.6f} segundos\")\n"
   ]
  },
  {
   "cell_type": "markdown",
   "metadata": {},
   "source": [
    "El hash md5 pudo no haber funcionado debido a que el SHA-256 produce un hash mas largo y complejo que MD5, además que MD5 es más susceptible a colisiones y ataques de ingeniería inversa que SHA-256."
   ]
  }
 ],
 "metadata": {
  "kernelspec": {
   "display_name": "Python 3",
   "language": "python",
   "name": "python3"
  },
  "language_info": {
   "codemirror_mode": {
    "name": "ipython",
    "version": 3
   },
   "file_extension": ".py",
   "mimetype": "text/x-python",
   "name": "python",
   "nbconvert_exporter": "python",
   "pygments_lexer": "ipython3",
   "version": "3.12.2"
  }
 },
 "nbformat": 4,
 "nbformat_minor": 2
}
